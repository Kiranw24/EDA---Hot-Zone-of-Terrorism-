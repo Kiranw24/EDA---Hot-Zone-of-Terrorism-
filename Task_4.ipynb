{
 "cells": [
  {
   "cell_type": "markdown",
   "metadata": {},
   "source": [
    "# The Sparks Foundation"
   ]
  },
  {
   "cell_type": "markdown",
   "metadata": {},
   "source": [
    "# Kiran L. Ware , Data Science and Business Analytics Intern."
   ]
  },
  {
   "cell_type": "markdown",
   "metadata": {},
   "source": [
    "Task 4: Perform ‘Exploratory Data Analysis’ on dataset ‘Global Terrorism’\n",
    "    * As a security/defense analyst, try to find out the hot zone of terrorism."
   ]
  },
  {
   "cell_type": "markdown",
   "metadata": {},
   "source": [
    "* Steps which we follow during this task are:\n",
    "    * Import required libraries\n",
    "    * Reading the dataset\n",
    "    * Preprocessing given data\n",
    "    * EDA\n",
    "    * Visualization\n",
    "    * Conclusion"
   ]
  },
  {
   "cell_type": "markdown",
   "metadata": {},
   "source": [
    "* Import Required Libraries\n",
    "    * numpy\n",
    "    * pandas\n",
    "    * matplotlib\n",
    "    * seaborn\n",
    "    * plotly"
   ]
  },
  {
   "cell_type": "code",
   "execution_count": null,
   "metadata": {},
   "outputs": [],
   "source": [
    "import numpy as np\n",
    "import pandas as pd\n",
    "from matplotlib import pyplot as plt\n",
    "import seaborn as sns\n",
    "import plotly.express as px"
   ]
  },
  {
   "cell_type": "raw",
   "metadata": {},
   "source": [
    "df = pd.read_csv(r\"K:\\\\machine learning\\\\sparks foundation internship\\\\globalterrorism.csv\")\n",
    "df.head()\n",
    "* if you import data as we every time import then you will get an Error \n",
    "> UnicodeDecodeError: 'utf-8' codec can't decode byte 0xe9 in position 18: unexpected end of data\n",
    "* for resolve this error do following steps:\n",
    "\n",
    "    import chardet\n",
    "    with open(file, 'rb') as rawdata:\n",
    "        result = chardet.detect(rawdata.read(100000))\n",
    "    result\n",
    "    \n",
    "    > {'encoding': 'ISO-8859-1', 'confidence': 0.7289274470020289, 'language': ''}\n",
    "    \n",
    "    df = pd.read_csv(file,encoding='ISO-8859-1')\n",
    "    df.head()"
   ]
  },
  {
   "cell_type": "markdown",
   "metadata": {},
   "source": [
    "* Read Dataset Using Pandas library"
   ]
  },
  {
   "cell_type": "code",
   "execution_count": null,
   "metadata": {},
   "outputs": [],
   "source": [
    "import chardet\n",
    "with open('K:\\\\machine learning\\\\sparks foundation internship\\\\globalterrorism.csv', 'rb') as rawdata:\n",
    "    result = chardet.detect(rawdata.read(100000))\n",
    "result"
   ]
  },
  {
   "cell_type": "code",
   "execution_count": null,
   "metadata": {},
   "outputs": [],
   "source": [
    "df = pd.read_csv('K:\\\\machine learning\\\\sparks foundation internship\\\\globalterrorism.csv',encoding='ISO-8859-1')\n",
    "df.head()"
   ]
  },
  {
   "cell_type": "markdown",
   "metadata": {},
   "source": [
    "* Check information related to Data like shape, columns name, Null Value, etc."
   ]
  },
  {
   "cell_type": "code",
   "execution_count": null,
   "metadata": {},
   "outputs": [],
   "source": [
    "df.shape"
   ]
  },
  {
   "cell_type": "code",
   "execution_count": null,
   "metadata": {},
   "outputs": [],
   "source": [
    "df.columns.values"
   ]
  },
  {
   "cell_type": "markdown",
   "metadata": {},
   "source": [
    "* above we have 135 columns but we not want that much for exploring or analyzing, so select some important columns from those columns"
   ]
  },
  {
   "cell_type": "code",
   "execution_count": null,
   "metadata": {},
   "outputs": [],
   "source": [
    "df = df[[\"iyear\", \"imonth\", \"iday\",\"country\", \"country_txt\", \"region_txt\", \"city\",\"success\", \"attacktype1_txt\",\n",
    "         \"nkill\", \"propvalue\", \"targtype1_txt\",\"latitude\",\"gname\",\"longitude\", \"targsubtype1_txt\",\"target1\",\n",
    "         \"weaptype1_txt\", \"weapdetail\"]]"
   ]
  },
  {
   "cell_type": "code",
   "execution_count": null,
   "metadata": {
    "scrolled": true
   },
   "outputs": [],
   "source": [
    "df.head()"
   ]
  },
  {
   "cell_type": "markdown",
   "metadata": {},
   "source": [
    "* here we get our new dataframe, now we go stepwise"
   ]
  },
  {
   "cell_type": "code",
   "execution_count": null,
   "metadata": {},
   "outputs": [],
   "source": [
    "df.shape"
   ]
  },
  {
   "cell_type": "code",
   "execution_count": null,
   "metadata": {},
   "outputs": [],
   "source": [
    "df.columns"
   ]
  },
  {
   "cell_type": "markdown",
   "metadata": {},
   "source": [
    "* Here we rename our columns name "
   ]
  },
  {
   "cell_type": "code",
   "execution_count": null,
   "metadata": {},
   "outputs": [],
   "source": [
    "df.rename(columns = {'iyear':'Year', \"imonth\":\"Month\",\"iday\":\"Day\", \"country\":\"Country_no\",\n",
    "                     \"country_txt\":\"Country\",\"region_txt\":\"Region\",\"city\":\"City\", \"propvalue\":\"property_value\",\n",
    "                     \"attacktype1_txt\":\"Attack_type\", \"targtype1_txt\":\"Target_type\",\"gname\":\"group_name\",\n",
    "                     \"targsubtype1_txt\":\"Target_sub_type\", \"target1\":\"Target\", \"nkill\":\"no_of_kills\",\n",
    "                     \"weaptype1_txt\":\"Weapon_type\", \"weapdetail\":\"Weapon_detail\"}, inplace = True)"
   ]
  },
  {
   "cell_type": "markdown",
   "metadata": {},
   "source": [
    "Here we check for Null values"
   ]
  },
  {
   "cell_type": "code",
   "execution_count": null,
   "metadata": {},
   "outputs": [],
   "source": [
    "df.isnull().sum()"
   ]
  },
  {
   "cell_type": "markdown",
   "metadata": {},
   "source": [
    "* Here we see there are 8 columns having null values so here we import values some required places"
   ]
  },
  {
   "cell_type": "code",
   "execution_count": null,
   "metadata": {},
   "outputs": [],
   "source": [
    "df[\"City\"].fillna(\"Unknown\", inplace = True)\n",
    "df[\"Target\"].fillna(\"Unknown\", inplace = True)\n",
    "df[\"property_value\"].fillna(0, inplace = True)\n",
    "df[\"no_of_kills\"].fillna(0, inplace = True)"
   ]
  },
  {
   "cell_type": "markdown",
   "metadata": {},
   "source": [
    "* Here we import values in city, Target, Property Value and no_of_kills columns.\n",
    "* Here we not import or replace null values in some columns by any other information because there is not that much need of that columns and are not affect our other columns."
   ]
  },
  {
   "cell_type": "code",
   "execution_count": null,
   "metadata": {},
   "outputs": [],
   "source": [
    "df.isnull().sum()"
   ]
  },
  {
   "cell_type": "markdown",
   "metadata": {},
   "source": [
    "* so here we see we successfully replace null values in some columns."
   ]
  },
  {
   "cell_type": "code",
   "execution_count": null,
   "metadata": {},
   "outputs": [],
   "source": [
    "df.info()"
   ]
  },
  {
   "cell_type": "markdown",
   "metadata": {},
   "source": [
    "# Explorating Data Analysis"
   ]
  },
  {
   "cell_type": "markdown",
   "metadata": {},
   "source": [
    "* now we visualize data using some plotting libraries.\n",
    "\n",
    "* Here we plot countplot for counting number of attacks per year in the world"
   ]
  },
  {
   "cell_type": "code",
   "execution_count": null,
   "metadata": {},
   "outputs": [],
   "source": [
    "from matplotlib import style\n",
    "style.use('ggplot')\n",
    "plt.figure(figsize=(25,9))\n",
    "sns.countplot(x ='Year', data = df)\n",
    "plt.title(\"No of Attacks [1970-2017]\",fontsize=25)  \n",
    "plt.grid(color = 'g',linestyle = '-.',linewidth = 0.5)"
   ]
  },
  {
   "cell_type": "markdown",
   "metadata": {},
   "source": [
    "* from the above graph we say that \n",
    " * in the year of 2014 there are most numbers of Attacks"
   ]
  },
  {
   "cell_type": "markdown",
   "metadata": {},
   "source": [
    "* Here we visualize number of Success attacks in comparison with the Failure."
   ]
  },
  {
   "cell_type": "code",
   "execution_count": null,
   "metadata": {},
   "outputs": [],
   "source": [
    "plt.figure(figsize=(25,9))   \n",
    "plt.title(\"No of Attacks 'Success' & 'Failure'\")\n",
    "sns.set_style('darkgrid') \n",
    "sns.countplot(x ='Year', hue = \"success\", data = df)\n",
    "plt.grid(color = 'black',linestyle = '-.',linewidth = 0.5)\n",
    "plt.show()"
   ]
  },
  {
   "cell_type": "markdown",
   "metadata": {},
   "source": [
    "* in Blue color Show number of Success and in red color show number of failure. "
   ]
  },
  {
   "cell_type": "markdown",
   "metadata": {},
   "source": [
    "* Here we see most of the number of Successful attacks in the year of 2014."
   ]
  },
  {
   "cell_type": "markdown",
   "metadata": {},
   "source": [
    "* Now we plot Distribution of number of Attacks per Region. "
   ]
  },
  {
   "cell_type": "code",
   "execution_count": null,
   "metadata": {},
   "outputs": [],
   "source": [
    "plt.figure(figsize=(25,9))\n",
    "sns.set_style('darkgrid')\n",
    "plt.title(\"Region-Wise Attack Count\",fontsize=25) \n",
    "sns.countplot(x ='Region', data = df)\n",
    "plt.grid(color = 'black',linestyle = '-.',linewidth = 0.5)\n",
    "plt.show()"
   ]
  },
  {
   "cell_type": "markdown",
   "metadata": {},
   "source": [
    "* Here we see 'Middle East & North Africa' region and 'South Asia' region faces the most of Attacks."
   ]
  },
  {
   "cell_type": "code",
   "execution_count": null,
   "metadata": {},
   "outputs": [],
   "source": [
    "fig1 = px.scatter(df, x=\"Year\", y=\"Region\", color=\"Attack_type\",size=\"no_of_kills\", hover_name=\"Country\",\n",
    "                 log_x=True, size_max=60,title='Attack type in each region [1970-2017]')\n",
    "fig1.show()"
   ]
  },
  {
   "cell_type": "markdown",
   "metadata": {},
   "source": [
    "* from above we see\n",
    "    * North America Faces most numbers of Hijacking type attack\n",
    "    * sub-saharan africa faces most of the Armed Assault type attack\n",
    "    * middle East & North africs faces most of the Hostage Taking (Kidnapping) type attacks.\n",
    "* Bombing/Explosion is the attack which is most number of times use for attack."
   ]
  },
  {
   "cell_type": "code",
   "execution_count": null,
   "metadata": {
    "scrolled": false
   },
   "outputs": [],
   "source": [
    "px.scatter_mapbox(df, lat=\"latitude\", lon=\"longitude\", color=\"Attack_type\",size=\"no_of_kills\",hover_name=\"City\",\n",
    "                  color_continuous_scale=px.colors.cyclical.IceFire, size_max=25,\n",
    "                  mapbox_style=\"carto-positron\",title='Number of Kills distribution in each City')"
   ]
  },
  {
   "cell_type": "markdown",
   "metadata": {},
   "source": [
    "* Most Hot Places (More number of kills) \n",
    "    * Upper left border of South America (Peru)\n",
    "    * Guatemala (bottom part of North America)\n",
    "    * India-Pakistan Border\n",
    "    * India-China Border\n",
    "    * Nigeria-Chad Border\n",
    "    * Afganistan-Pakistan Border\n",
    "    * Lebanon-syria-Iraq "
   ]
  },
  {
   "cell_type": "code",
   "execution_count": null,
   "metadata": {},
   "outputs": [],
   "source": [
    "gr = df.groupby(['Country'],as_index=False).count()\n",
    "fig = px.choropleth(gr,locations='Country',locationmode='country names',color='Year',hover_name='Country',\n",
    "                    projection='orthographic',title='Total Number of Attacks in [1970-2017]',labels={'Year','Attacks'})\n",
    "fig.show()"
   ]
  },
  {
   "cell_type": "markdown",
   "metadata": {},
   "source": [
    "* Yellow Show Most number of attacks in that country and purple show less number of attacks."
   ]
  },
  {
   "cell_type": "markdown",
   "metadata": {},
   "source": [
    "* Most number pf Attacks In the Iraq.\n",
    "* After that in Pakistan then Afganistan and then india."
   ]
  },
  {
   "cell_type": "code",
   "execution_count": null,
   "metadata": {},
   "outputs": [],
   "source": [
    "plt.figure(figsize=(25,9))\n",
    "sns.set_style('darkgrid')\n",
    "sns.catplot(x ='Year', y ='no_of_kills', data = df, kind ='bar',height=10, aspect=27/13,color='r')\n",
    "plt.title('Number of Kills Per Year',fontsize=25)\n",
    "plt.grid(color = 'black',linestyle = '-.',linewidth = 0.5)\n",
    "plt.show()"
   ]
  },
  {
   "cell_type": "markdown",
   "metadata": {},
   "source": [
    "most Number of Kills in the year of 1998 & 2004."
   ]
  },
  {
   "cell_type": "code",
   "execution_count": null,
   "metadata": {},
   "outputs": [],
   "source": [
    "fig2 = px.pie(df, values='no_of_kills', names='Attack_type', title='Number of Kills per Attack Type')\n",
    "fig2.update_layout(legend_title_text='ATTACK TYPES')"
   ]
  },
  {
   "cell_type": "markdown",
   "metadata": {},
   "source": [
    "* Number of Kills Per Attack Type\n",
    "    * Most Damaged in Armed Assault Attack Type & Bombing/Explosion Attack Type"
   ]
  },
  {
   "cell_type": "code",
   "execution_count": null,
   "metadata": {},
   "outputs": [],
   "source": [
    "fig3 = px.pie(df, values='no_of_kills', names='Weapon_type', title='Number of Kills by each type of Weapon')\n",
    "fig3.update_layout(legend=dict(orientation='v',\n",
    "    yanchor=\"top\",\n",
    "    y=1.3,\n",
    "    xanchor=\"right\",\n",
    "    x=2.5\n",
    "))\n",
    "fig3.update_layout(legend_title_text='Types Of WEAPONS')\n",
    "fig3.show()"
   ]
  },
  {
   "cell_type": "markdown",
   "metadata": {},
   "source": [
    "* Number of Kills Per Weapon Type\n",
    "    * Most Damaged by firearms & Explosives Weapon Type"
   ]
  },
  {
   "cell_type": "code",
   "execution_count": null,
   "metadata": {},
   "outputs": [],
   "source": [
    "fig4 = px.pie(df, values='no_of_kills', names='Target_type', title='Number of Kills in each type of target')\n",
    "fig4.update_layout(legend_title_text='TARGET AREA')"
   ]
  },
  {
   "cell_type": "markdown",
   "metadata": {},
   "source": [
    "* Private Citizens & Property Area\n",
    "* Military Area\n",
    "* Police & Government Related Areas \n",
    "    Are the Hot Target Areas"
   ]
  },
  {
   "cell_type": "markdown",
   "metadata": {},
   "source": [
    "# Hot Zone of TERRORISM:\n",
    "\n",
    "* Most Hot Countries\n",
    "    * Iraq, Pakistan, Afganistan and India are the most hot Zone of Terrorism\n",
    "* Most Hot Region\n",
    "    * 'Middle East & North Africa' region and 'South Asia' region faces the most of Attacks.\n",
    "* Most Hot Places (More number of kills) \n",
    "    * Upper left border of South America (Peru)\n",
    "    * Guatemala (bottom part of North America)\n",
    "    * India-Pakistan Border\n",
    "    * India-China Border\n",
    "    * Nigeria-Chad Border\n",
    "    * Afganistan-Pakistan Border\n",
    "    * Lebanon-syria-Iraq\n",
    "* Most Hot Target Type\n",
    "    * Private Citizens & Property Area\n",
    "    * Military Area\n",
    "    * Police & Government Related Areas\n",
    "    \n",
    "* Highest Number of Attacks Takes place in the year of 2014.\n",
    "* In between 2010-2017 we see the Hostage Taking (Barricade incident , Kidnapping) takes place at a wide range.\n",
    "* out of total number of kills 38.9% kills are single in Armed assault attack type."
   ]
  },
  {
   "cell_type": "markdown",
   "metadata": {},
   "source": [
    "# Thank You..!"
   ]
  }
 ],
 "metadata": {
  "kernelspec": {
   "display_name": "Python 3",
   "language": "python",
   "name": "python3"
  },
  "language_info": {
   "codemirror_mode": {
    "name": "ipython",
    "version": 3
   },
   "file_extension": ".py",
   "mimetype": "text/x-python",
   "name": "python",
   "nbconvert_exporter": "python",
   "pygments_lexer": "ipython3",
   "version": "3.7.6"
  }
 },
 "nbformat": 4,
 "nbformat_minor": 4
}
